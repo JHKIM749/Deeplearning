{
 "cells": [
  {
   "cell_type": "markdown",
   "metadata": {},
   "source": [
    "# Linear Regression - Ⅱ\n",
    "-미국 보스턴 지역의 집값을 13개의 Feature를 이용하여 예측하는 모델을 만들어 보자"
   ]
  },
  {
   "cell_type": "code",
   "execution_count": 1,
   "metadata": {},
   "outputs": [],
   "source": [
    "import torch\n",
    "import torch.nn as nn\n",
    "import torch.functional as F\n",
    "from torch.utils.data import Dataset, DataLoader\n",
    "import torch.utils.data as data_utils\n",
    "\n",
    "\n",
    "import numpy as np\n",
    "import pandas as pd\n",
    "from sklearn.preprocessing import StandardScaler\n",
    "from sklearn.model_selection import train_test_split\n",
    "\n",
    "\n",
    "import matplotlib.pyplot as plt"
   ]
  },
  {
   "cell_type": "markdown",
   "metadata": {},
   "source": [
    "## [1] Data\n",
    "-Bostion Housing 데이터셋\n",
    "-보스턴 지역의 주변 환경에 대한 수치값과 집값 데이터\n",
    "- Sample수 : 506개\n",
    "- Feature : 14개 "
   ]
  },
  {
   "cell_type": "code",
   "execution_count": 24,
   "metadata": {},
   "outputs": [],
   "source": [
    "df_raw = pd.read_csv('./BostonHousing.csv') #csv(comma-separated values)파일 가져오기 "
   ]
  },
  {
   "cell_type": "code",
   "execution_count": 25,
   "metadata": {},
   "outputs": [
    {
     "name": "stdout",
     "output_type": "stream",
     "text": [
      "(506, 14)\n"
     ]
    },
    {
     "data": {
      "text/html": [
       "<div>\n",
       "<style scoped>\n",
       "    .dataframe tbody tr th:only-of-type {\n",
       "        vertical-align: middle;\n",
       "    }\n",
       "\n",
       "    .dataframe tbody tr th {\n",
       "        vertical-align: top;\n",
       "    }\n",
       "\n",
       "    .dataframe thead th {\n",
       "        text-align: right;\n",
       "    }\n",
       "</style>\n",
       "<table border=\"1\" class=\"dataframe\">\n",
       "  <thead>\n",
       "    <tr style=\"text-align: right;\">\n",
       "      <th></th>\n",
       "      <th>crim</th>\n",
       "      <th>zn</th>\n",
       "      <th>indus</th>\n",
       "      <th>chas</th>\n",
       "      <th>nox</th>\n",
       "      <th>rm</th>\n",
       "      <th>age</th>\n",
       "      <th>dis</th>\n",
       "      <th>rad</th>\n",
       "      <th>tax</th>\n",
       "      <th>ptratio</th>\n",
       "      <th>black</th>\n",
       "      <th>lstat</th>\n",
       "      <th>medv</th>\n",
       "    </tr>\n",
       "  </thead>\n",
       "  <tbody>\n",
       "    <tr>\n",
       "      <th>0</th>\n",
       "      <td>0.00632</td>\n",
       "      <td>18.0</td>\n",
       "      <td>2.31</td>\n",
       "      <td>0</td>\n",
       "      <td>0.538</td>\n",
       "      <td>6.575</td>\n",
       "      <td>65.2</td>\n",
       "      <td>4.0900</td>\n",
       "      <td>1</td>\n",
       "      <td>296</td>\n",
       "      <td>15.3</td>\n",
       "      <td>396.90</td>\n",
       "      <td>4.98</td>\n",
       "      <td>24.0</td>\n",
       "    </tr>\n",
       "    <tr>\n",
       "      <th>1</th>\n",
       "      <td>0.02731</td>\n",
       "      <td>0.0</td>\n",
       "      <td>7.07</td>\n",
       "      <td>0</td>\n",
       "      <td>0.469</td>\n",
       "      <td>6.421</td>\n",
       "      <td>78.9</td>\n",
       "      <td>4.9671</td>\n",
       "      <td>2</td>\n",
       "      <td>242</td>\n",
       "      <td>17.8</td>\n",
       "      <td>396.90</td>\n",
       "      <td>9.14</td>\n",
       "      <td>21.6</td>\n",
       "    </tr>\n",
       "    <tr>\n",
       "      <th>2</th>\n",
       "      <td>0.02729</td>\n",
       "      <td>0.0</td>\n",
       "      <td>7.07</td>\n",
       "      <td>0</td>\n",
       "      <td>0.469</td>\n",
       "      <td>7.185</td>\n",
       "      <td>61.1</td>\n",
       "      <td>4.9671</td>\n",
       "      <td>2</td>\n",
       "      <td>242</td>\n",
       "      <td>17.8</td>\n",
       "      <td>392.83</td>\n",
       "      <td>4.03</td>\n",
       "      <td>34.7</td>\n",
       "    </tr>\n",
       "    <tr>\n",
       "      <th>3</th>\n",
       "      <td>0.03237</td>\n",
       "      <td>0.0</td>\n",
       "      <td>2.18</td>\n",
       "      <td>0</td>\n",
       "      <td>0.458</td>\n",
       "      <td>6.998</td>\n",
       "      <td>45.8</td>\n",
       "      <td>6.0622</td>\n",
       "      <td>3</td>\n",
       "      <td>222</td>\n",
       "      <td>18.7</td>\n",
       "      <td>394.63</td>\n",
       "      <td>2.94</td>\n",
       "      <td>33.4</td>\n",
       "    </tr>\n",
       "    <tr>\n",
       "      <th>4</th>\n",
       "      <td>0.06905</td>\n",
       "      <td>0.0</td>\n",
       "      <td>2.18</td>\n",
       "      <td>0</td>\n",
       "      <td>0.458</td>\n",
       "      <td>7.147</td>\n",
       "      <td>54.2</td>\n",
       "      <td>6.0622</td>\n",
       "      <td>3</td>\n",
       "      <td>222</td>\n",
       "      <td>18.7</td>\n",
       "      <td>396.90</td>\n",
       "      <td>5.33</td>\n",
       "      <td>36.2</td>\n",
       "    </tr>\n",
       "    <tr>\n",
       "      <th>...</th>\n",
       "      <td>...</td>\n",
       "      <td>...</td>\n",
       "      <td>...</td>\n",
       "      <td>...</td>\n",
       "      <td>...</td>\n",
       "      <td>...</td>\n",
       "      <td>...</td>\n",
       "      <td>...</td>\n",
       "      <td>...</td>\n",
       "      <td>...</td>\n",
       "      <td>...</td>\n",
       "      <td>...</td>\n",
       "      <td>...</td>\n",
       "      <td>...</td>\n",
       "    </tr>\n",
       "    <tr>\n",
       "      <th>501</th>\n",
       "      <td>0.06263</td>\n",
       "      <td>0.0</td>\n",
       "      <td>11.93</td>\n",
       "      <td>0</td>\n",
       "      <td>0.573</td>\n",
       "      <td>6.593</td>\n",
       "      <td>69.1</td>\n",
       "      <td>2.4786</td>\n",
       "      <td>1</td>\n",
       "      <td>273</td>\n",
       "      <td>21.0</td>\n",
       "      <td>391.99</td>\n",
       "      <td>9.67</td>\n",
       "      <td>22.4</td>\n",
       "    </tr>\n",
       "    <tr>\n",
       "      <th>502</th>\n",
       "      <td>0.04527</td>\n",
       "      <td>0.0</td>\n",
       "      <td>11.93</td>\n",
       "      <td>0</td>\n",
       "      <td>0.573</td>\n",
       "      <td>6.120</td>\n",
       "      <td>76.7</td>\n",
       "      <td>2.2875</td>\n",
       "      <td>1</td>\n",
       "      <td>273</td>\n",
       "      <td>21.0</td>\n",
       "      <td>396.90</td>\n",
       "      <td>9.08</td>\n",
       "      <td>20.6</td>\n",
       "    </tr>\n",
       "    <tr>\n",
       "      <th>503</th>\n",
       "      <td>0.06076</td>\n",
       "      <td>0.0</td>\n",
       "      <td>11.93</td>\n",
       "      <td>0</td>\n",
       "      <td>0.573</td>\n",
       "      <td>6.976</td>\n",
       "      <td>91.0</td>\n",
       "      <td>2.1675</td>\n",
       "      <td>1</td>\n",
       "      <td>273</td>\n",
       "      <td>21.0</td>\n",
       "      <td>396.90</td>\n",
       "      <td>5.64</td>\n",
       "      <td>23.9</td>\n",
       "    </tr>\n",
       "    <tr>\n",
       "      <th>504</th>\n",
       "      <td>0.10959</td>\n",
       "      <td>0.0</td>\n",
       "      <td>11.93</td>\n",
       "      <td>0</td>\n",
       "      <td>0.573</td>\n",
       "      <td>6.794</td>\n",
       "      <td>89.3</td>\n",
       "      <td>2.3889</td>\n",
       "      <td>1</td>\n",
       "      <td>273</td>\n",
       "      <td>21.0</td>\n",
       "      <td>393.45</td>\n",
       "      <td>6.48</td>\n",
       "      <td>22.0</td>\n",
       "    </tr>\n",
       "    <tr>\n",
       "      <th>505</th>\n",
       "      <td>0.04741</td>\n",
       "      <td>0.0</td>\n",
       "      <td>11.93</td>\n",
       "      <td>0</td>\n",
       "      <td>0.573</td>\n",
       "      <td>6.030</td>\n",
       "      <td>80.8</td>\n",
       "      <td>2.5050</td>\n",
       "      <td>1</td>\n",
       "      <td>273</td>\n",
       "      <td>21.0</td>\n",
       "      <td>396.90</td>\n",
       "      <td>7.88</td>\n",
       "      <td>11.9</td>\n",
       "    </tr>\n",
       "  </tbody>\n",
       "</table>\n",
       "<p>506 rows × 14 columns</p>\n",
       "</div>"
      ],
      "text/plain": [
       "        crim    zn  indus  chas    nox     rm   age     dis  rad  tax  \\\n",
       "0    0.00632  18.0   2.31     0  0.538  6.575  65.2  4.0900    1  296   \n",
       "1    0.02731   0.0   7.07     0  0.469  6.421  78.9  4.9671    2  242   \n",
       "2    0.02729   0.0   7.07     0  0.469  7.185  61.1  4.9671    2  242   \n",
       "3    0.03237   0.0   2.18     0  0.458  6.998  45.8  6.0622    3  222   \n",
       "4    0.06905   0.0   2.18     0  0.458  7.147  54.2  6.0622    3  222   \n",
       "..       ...   ...    ...   ...    ...    ...   ...     ...  ...  ...   \n",
       "501  0.06263   0.0  11.93     0  0.573  6.593  69.1  2.4786    1  273   \n",
       "502  0.04527   0.0  11.93     0  0.573  6.120  76.7  2.2875    1  273   \n",
       "503  0.06076   0.0  11.93     0  0.573  6.976  91.0  2.1675    1  273   \n",
       "504  0.10959   0.0  11.93     0  0.573  6.794  89.3  2.3889    1  273   \n",
       "505  0.04741   0.0  11.93     0  0.573  6.030  80.8  2.5050    1  273   \n",
       "\n",
       "     ptratio   black  lstat  medv  \n",
       "0       15.3  396.90   4.98  24.0  \n",
       "1       17.8  396.90   9.14  21.6  \n",
       "2       17.8  392.83   4.03  34.7  \n",
       "3       18.7  394.63   2.94  33.4  \n",
       "4       18.7  396.90   5.33  36.2  \n",
       "..       ...     ...    ...   ...  \n",
       "501     21.0  391.99   9.67  22.4  \n",
       "502     21.0  396.90   9.08  20.6  \n",
       "503     21.0  396.90   5.64  23.9  \n",
       "504     21.0  393.45   6.48  22.0  \n",
       "505     21.0  396.90   7.88  11.9  \n",
       "\n",
       "[506 rows x 14 columns]"
      ]
     },
     "execution_count": 25,
     "metadata": {},
     "output_type": "execute_result"
    }
   ],
   "source": [
    "print(df_raw.shape) # Dataset의 크기 확인\n",
    "df_raw"
   ]
  },
  {
   "cell_type": "code",
   "execution_count": 26,
   "metadata": {},
   "outputs": [
    {
     "data": {
      "text/html": [
       "<div>\n",
       "<style scoped>\n",
       "    .dataframe tbody tr th:only-of-type {\n",
       "        vertical-align: middle;\n",
       "    }\n",
       "\n",
       "    .dataframe tbody tr th {\n",
       "        vertical-align: top;\n",
       "    }\n",
       "\n",
       "    .dataframe thead th {\n",
       "        text-align: right;\n",
       "    }\n",
       "</style>\n",
       "<table border=\"1\" class=\"dataframe\">\n",
       "  <thead>\n",
       "    <tr style=\"text-align: right;\">\n",
       "      <th></th>\n",
       "      <th>crim</th>\n",
       "      <th>zn</th>\n",
       "      <th>indus</th>\n",
       "      <th>chas</th>\n",
       "      <th>nox</th>\n",
       "      <th>rm</th>\n",
       "      <th>age</th>\n",
       "      <th>dis</th>\n",
       "      <th>rad</th>\n",
       "      <th>tax</th>\n",
       "      <th>ptratio</th>\n",
       "      <th>black</th>\n",
       "      <th>lstat</th>\n",
       "      <th>medv</th>\n",
       "    </tr>\n",
       "  </thead>\n",
       "  <tbody>\n",
       "    <tr>\n",
       "      <th>0</th>\n",
       "      <td>0.00632</td>\n",
       "      <td>18.0</td>\n",
       "      <td>2.31</td>\n",
       "      <td>0</td>\n",
       "      <td>0.538</td>\n",
       "      <td>6.575</td>\n",
       "      <td>65.2</td>\n",
       "      <td>4.0900</td>\n",
       "      <td>1</td>\n",
       "      <td>296</td>\n",
       "      <td>15.3</td>\n",
       "      <td>396.90</td>\n",
       "      <td>4.98</td>\n",
       "      <td>24.0</td>\n",
       "    </tr>\n",
       "    <tr>\n",
       "      <th>1</th>\n",
       "      <td>0.02731</td>\n",
       "      <td>0.0</td>\n",
       "      <td>7.07</td>\n",
       "      <td>0</td>\n",
       "      <td>0.469</td>\n",
       "      <td>6.421</td>\n",
       "      <td>78.9</td>\n",
       "      <td>4.9671</td>\n",
       "      <td>2</td>\n",
       "      <td>242</td>\n",
       "      <td>17.8</td>\n",
       "      <td>396.90</td>\n",
       "      <td>9.14</td>\n",
       "      <td>21.6</td>\n",
       "    </tr>\n",
       "    <tr>\n",
       "      <th>2</th>\n",
       "      <td>0.02729</td>\n",
       "      <td>0.0</td>\n",
       "      <td>7.07</td>\n",
       "      <td>0</td>\n",
       "      <td>0.469</td>\n",
       "      <td>7.185</td>\n",
       "      <td>61.1</td>\n",
       "      <td>4.9671</td>\n",
       "      <td>2</td>\n",
       "      <td>242</td>\n",
       "      <td>17.8</td>\n",
       "      <td>392.83</td>\n",
       "      <td>4.03</td>\n",
       "      <td>34.7</td>\n",
       "    </tr>\n",
       "    <tr>\n",
       "      <th>3</th>\n",
       "      <td>0.03237</td>\n",
       "      <td>0.0</td>\n",
       "      <td>2.18</td>\n",
       "      <td>0</td>\n",
       "      <td>0.458</td>\n",
       "      <td>6.998</td>\n",
       "      <td>45.8</td>\n",
       "      <td>6.0622</td>\n",
       "      <td>3</td>\n",
       "      <td>222</td>\n",
       "      <td>18.7</td>\n",
       "      <td>394.63</td>\n",
       "      <td>2.94</td>\n",
       "      <td>33.4</td>\n",
       "    </tr>\n",
       "    <tr>\n",
       "      <th>4</th>\n",
       "      <td>0.06905</td>\n",
       "      <td>0.0</td>\n",
       "      <td>2.18</td>\n",
       "      <td>0</td>\n",
       "      <td>0.458</td>\n",
       "      <td>7.147</td>\n",
       "      <td>54.2</td>\n",
       "      <td>6.0622</td>\n",
       "      <td>3</td>\n",
       "      <td>222</td>\n",
       "      <td>18.7</td>\n",
       "      <td>396.90</td>\n",
       "      <td>5.33</td>\n",
       "      <td>36.2</td>\n",
       "    </tr>\n",
       "  </tbody>\n",
       "</table>\n",
       "</div>"
      ],
      "text/plain": [
       "      crim    zn  indus  chas    nox     rm   age     dis  rad  tax  ptratio  \\\n",
       "0  0.00632  18.0   2.31     0  0.538  6.575  65.2  4.0900    1  296     15.3   \n",
       "1  0.02731   0.0   7.07     0  0.469  6.421  78.9  4.9671    2  242     17.8   \n",
       "2  0.02729   0.0   7.07     0  0.469  7.185  61.1  4.9671    2  242     17.8   \n",
       "3  0.03237   0.0   2.18     0  0.458  6.998  45.8  6.0622    3  222     18.7   \n",
       "4  0.06905   0.0   2.18     0  0.458  7.147  54.2  6.0622    3  222     18.7   \n",
       "\n",
       "    black  lstat  medv  \n",
       "0  396.90   4.98  24.0  \n",
       "1  396.90   9.14  21.6  \n",
       "2  392.83   4.03  34.7  \n",
       "3  394.63   2.94  33.4  \n",
       "4  396.90   5.33  36.2  "
      ]
     },
     "execution_count": 26,
     "metadata": {},
     "output_type": "execute_result"
    }
   ],
   "source": [
    "df_raw.head()"
   ]
  },
  {
   "cell_type": "code",
   "execution_count": 27,
   "metadata": {},
   "outputs": [
    {
     "name": "stdout",
     "output_type": "stream",
     "text": [
      "(506, 13)\n",
      "(506,)\n"
     ]
    }
   ],
   "source": [
    "# X값 coulumn\n",
    "x = df_raw.drop(['medv'],axis=1)\n",
    "\n",
    "# y값 column\n",
    "y = df_raw['medv']\n",
    "\n",
    "print(x.shape)\n",
    "print(y.shape)"
   ]
  },
  {
   "cell_type": "code",
   "execution_count": 28,
   "metadata": {},
   "outputs": [
    {
     "name": "stdout",
     "output_type": "stream",
     "text": [
      "x_train의 크기:  (354, 13)\n",
      "y_train의 크기:  (354,) \n",
      "\n",
      "x_test의 크기:  (152, 13)\n",
      "y_test의 크기:  (152,)\n",
      "<class 'pandas.core.series.Series'>\n"
     ]
    }
   ],
   "source": [
    "#학습데이터와 테스트데이터를 일정비율로 나누기\n",
    "x_train, x_test, y_train, y_test = train_test_split(x,y, test_size=0.3, random_state=1234)\n",
    "\n",
    "#학습 데이터\n",
    "print(\"x_train의 크기: \",x_train.shape)\n",
    "print(\"y_train의 크기: \",y_train.shape,'\\n')\n",
    "\n",
    "#테스트 데이터 \n",
    "print(\"x_test의 크기: \",x_test.shape)\n",
    "print(\"y_test의 크기: \",y_test.shape)\n",
    "print(type(y_train))"
   ]
  },
  {
   "cell_type": "code",
   "execution_count": 29,
   "metadata": {},
   "outputs": [],
   "source": [
    "#학습 데이터 Scaling\n",
    "scaler = StandardScaler()\n",
    "scaler.fit(x_train)\n",
    "x_train_scale = scaler.transform(x_train)  # x_train_scale은 numpy ndarray \n",
    "\n",
    "\n",
    "#테스트 데이터 Scaling\n",
    "x_test_scale = scaler.transform(x_test)    # x_test_scale은 numpy ndarray \n",
    "\n",
    "\n",
    "# Array-->Tensor\n",
    "x_train_tensor = torch.FloatTensor(x_train_scale)\n",
    "y_train_tensor = torch.FloatTensor(y_train.values) #판다스 Series이므로 values를 사용해서 numpy ndarray로 가져오기\n",
    "\n",
    "x_test_tensor = torch.FloatTensor(x_test_scale)\n",
    "y_test_tensor = torch.FloatTensor(y_test.values)\n"
   ]
  },
  {
   "cell_type": "code",
   "execution_count": 30,
   "metadata": {},
   "outputs": [
    {
     "name": "stdout",
     "output_type": "stream",
     "text": [
      "0\n",
      "torch.Size([100, 13])\n",
      "torch.Size([100])\n"
     ]
    }
   ],
   "source": [
    "#학습 데이터 배치화 시키기 \n",
    "train_data =  data_utils.TensorDataset(x_train_tensor, y_train_tensor)\n",
    "\n",
    "dataloader =  data_utils.DataLoader(train_data, batch_size=100, shuffle=True, drop_last=True)\n",
    "\n",
    "\n",
    "#배치화된 데이터 확인\n",
    "for batch_idx, datas in enumerate(dataloader ):\n",
    "    \n",
    "    print(batch_idx)\n",
    "    print(datas[0].shape)  # x_train \n",
    "    print(datas[1].shape) # y_train\n",
    "    break\n"
   ]
  },
  {
   "cell_type": "markdown",
   "metadata": {},
   "source": [
    "## [2] Model"
   ]
  },
  {
   "cell_type": "code",
   "execution_count": 31,
   "metadata": {},
   "outputs": [],
   "source": [
    "#Parameter 정의\n",
    "input_size = 13\n",
    "output_size = 1\n",
    "learning_rate = 0.1\n",
    "n_epochs = 200"
   ]
  },
  {
   "cell_type": "code",
   "execution_count": 32,
   "metadata": {},
   "outputs": [],
   "source": [
    "#model 생성\n",
    "model = torch.nn.Linear(input_size, output_size)"
   ]
  },
  {
   "cell_type": "code",
   "execution_count": 35,
   "metadata": {},
   "outputs": [],
   "source": [
    "#손실함수 생성\n",
    "criterion = torch.nn.MSELoss()\n",
    "#Optimizer 생성\n",
    "optimizer = torch.optim.SGD(model.parameters(), lr=learning_rate)"
   ]
  },
  {
   "cell_type": "markdown",
   "metadata": {},
   "source": [
    "## [3]Training"
   ]
  },
  {
   "cell_type": "code",
   "execution_count": 36,
   "metadata": {},
   "outputs": [
    {
     "name": "stdout",
     "output_type": "stream",
     "text": [
      "epoch:0, Loss_train:265.64, Loss_test:158.33\n",
      "epoch:1, Loss_train:84.96, Loss_test:57.99\n",
      "epoch:2, Loss_train:49.71, Loss_test:30.11\n",
      "epoch:3, Loss_train:35.40, Loss_test:23.90\n",
      "epoch:4, Loss_train:18.66, Loss_test:22.17\n",
      "epoch:5, Loss_train:27.26, Loss_test:21.61\n",
      "epoch:6, Loss_train:20.33, Loss_test:21.50\n",
      "epoch:7, Loss_train:25.37, Loss_test:23.62\n",
      "epoch:8, Loss_train:28.30, Loss_test:22.70\n",
      "epoch:9, Loss_train:24.49, Loss_test:23.41\n",
      "epoch:10, Loss_train:11.09, Loss_test:22.76\n",
      "epoch:11, Loss_train:25.66, Loss_test:22.87\n",
      "epoch:12, Loss_train:11.19, Loss_test:23.04\n",
      "epoch:13, Loss_train:24.42, Loss_test:23.02\n",
      "epoch:14, Loss_train:29.66, Loss_test:23.11\n",
      "epoch:15, Loss_train:22.66, Loss_test:24.52\n",
      "epoch:16, Loss_train:25.48, Loss_test:24.31\n",
      "epoch:17, Loss_train:27.01, Loss_test:23.98\n",
      "epoch:18, Loss_train:14.07, Loss_test:23.88\n",
      "epoch:19, Loss_train:25.48, Loss_test:24.47\n",
      "epoch:20, Loss_train:19.50, Loss_test:23.97\n",
      "epoch:21, Loss_train:21.22, Loss_test:26.22\n",
      "epoch:22, Loss_train:22.63, Loss_test:26.13\n",
      "epoch:23, Loss_train:22.81, Loss_test:24.04\n",
      "epoch:24, Loss_train:40.84, Loss_test:28.14\n",
      "epoch:25, Loss_train:27.50, Loss_test:26.20\n",
      "epoch:26, Loss_train:27.24, Loss_test:25.14\n",
      "epoch:27, Loss_train:24.39, Loss_test:23.46\n",
      "epoch:28, Loss_train:10.74, Loss_test:23.36\n",
      "epoch:29, Loss_train:14.01, Loss_test:23.77\n",
      "epoch:30, Loss_train:30.79, Loss_test:26.41\n",
      "epoch:31, Loss_train:22.87, Loss_test:23.15\n",
      "epoch:32, Loss_train:21.64, Loss_test:22.99\n",
      "epoch:33, Loss_train:27.69, Loss_test:23.22\n",
      "epoch:34, Loss_train:17.72, Loss_test:23.14\n",
      "epoch:35, Loss_train:13.12, Loss_test:23.34\n",
      "epoch:36, Loss_train:21.02, Loss_test:24.38\n",
      "epoch:37, Loss_train:17.73, Loss_test:23.58\n",
      "epoch:38, Loss_train:20.98, Loss_test:23.90\n",
      "epoch:39, Loss_train:26.04, Loss_test:23.79\n",
      "epoch:40, Loss_train:23.10, Loss_test:23.91\n",
      "epoch:41, Loss_train:26.19, Loss_test:24.21\n",
      "epoch:42, Loss_train:20.25, Loss_test:23.68\n",
      "epoch:43, Loss_train:24.22, Loss_test:23.68\n",
      "epoch:44, Loss_train:27.31, Loss_test:25.12\n",
      "epoch:45, Loss_train:22.82, Loss_test:23.23\n",
      "epoch:46, Loss_train:21.99, Loss_test:23.66\n",
      "epoch:47, Loss_train:26.32, Loss_test:25.53\n",
      "epoch:48, Loss_train:26.98, Loss_test:23.82\n",
      "epoch:49, Loss_train:17.00, Loss_test:23.43\n",
      "epoch:50, Loss_train:29.60, Loss_test:23.79\n",
      "epoch:51, Loss_train:25.26, Loss_test:24.74\n",
      "epoch:52, Loss_train:31.26, Loss_test:26.95\n",
      "epoch:53, Loss_train:25.28, Loss_test:23.31\n",
      "epoch:54, Loss_train:21.99, Loss_test:23.30\n",
      "epoch:55, Loss_train:19.66, Loss_test:23.74\n",
      "epoch:56, Loss_train:27.90, Loss_test:23.83\n",
      "epoch:57, Loss_train:20.96, Loss_test:23.29\n",
      "epoch:58, Loss_train:19.31, Loss_test:23.37\n",
      "epoch:59, Loss_train:14.52, Loss_test:23.42\n",
      "epoch:60, Loss_train:20.86, Loss_test:23.83\n",
      "epoch:61, Loss_train:20.45, Loss_test:23.78\n",
      "epoch:62, Loss_train:22.97, Loss_test:23.36\n",
      "epoch:63, Loss_train:18.37, Loss_test:23.94\n",
      "epoch:64, Loss_train:23.22, Loss_test:24.28\n",
      "epoch:65, Loss_train:30.32, Loss_test:25.78\n",
      "epoch:66, Loss_train:24.09, Loss_test:24.05\n",
      "epoch:67, Loss_train:14.46, Loss_test:23.52\n",
      "epoch:68, Loss_train:37.36, Loss_test:24.14\n",
      "epoch:69, Loss_train:22.42, Loss_test:23.51\n",
      "epoch:70, Loss_train:15.10, Loss_test:23.05\n",
      "epoch:71, Loss_train:30.41, Loss_test:23.98\n",
      "epoch:72, Loss_train:28.77, Loss_test:26.18\n",
      "epoch:73, Loss_train:19.63, Loss_test:23.64\n",
      "epoch:74, Loss_train:22.84, Loss_test:23.78\n",
      "epoch:75, Loss_train:29.68, Loss_test:23.94\n",
      "epoch:76, Loss_train:25.16, Loss_test:26.50\n",
      "epoch:77, Loss_train:29.70, Loss_test:24.78\n",
      "epoch:78, Loss_train:21.76, Loss_test:25.13\n",
      "epoch:79, Loss_train:21.01, Loss_test:24.09\n",
      "epoch:80, Loss_train:23.41, Loss_test:24.51\n",
      "epoch:81, Loss_train:26.47, Loss_test:24.05\n",
      "epoch:82, Loss_train:20.06, Loss_test:25.34\n",
      "epoch:83, Loss_train:23.41, Loss_test:24.41\n",
      "epoch:84, Loss_train:17.63, Loss_test:24.82\n",
      "epoch:85, Loss_train:23.47, Loss_test:26.85\n",
      "epoch:86, Loss_train:21.48, Loss_test:24.85\n",
      "epoch:87, Loss_train:17.22, Loss_test:24.35\n",
      "epoch:88, Loss_train:29.37, Loss_test:24.65\n",
      "epoch:89, Loss_train:24.63, Loss_test:24.07\n",
      "epoch:90, Loss_train:31.22, Loss_test:24.69\n",
      "epoch:91, Loss_train:19.26, Loss_test:24.73\n",
      "epoch:92, Loss_train:28.39, Loss_test:24.73\n",
      "epoch:93, Loss_train:20.51, Loss_test:23.94\n",
      "epoch:94, Loss_train:23.50, Loss_test:24.15\n",
      "epoch:95, Loss_train:14.48, Loss_test:24.24\n",
      "epoch:96, Loss_train:26.27, Loss_test:25.00\n",
      "epoch:97, Loss_train:29.68, Loss_test:24.61\n",
      "epoch:98, Loss_train:19.55, Loss_test:24.38\n",
      "epoch:99, Loss_train:29.22, Loss_test:24.50\n",
      "epoch:100, Loss_train:25.53, Loss_test:25.96\n",
      "epoch:101, Loss_train:13.67, Loss_test:25.58\n",
      "epoch:102, Loss_train:27.75, Loss_test:24.43\n",
      "epoch:103, Loss_train:28.30, Loss_test:24.54\n",
      "epoch:104, Loss_train:27.16, Loss_test:26.37\n",
      "epoch:105, Loss_train:23.25, Loss_test:27.04\n",
      "epoch:106, Loss_train:28.90, Loss_test:24.56\n",
      "epoch:107, Loss_train:15.01, Loss_test:24.06\n",
      "epoch:108, Loss_train:38.49, Loss_test:26.61\n",
      "epoch:109, Loss_train:17.80, Loss_test:23.88\n",
      "epoch:110, Loss_train:24.38, Loss_test:25.55\n",
      "epoch:111, Loss_train:16.63, Loss_test:23.88\n",
      "epoch:112, Loss_train:18.72, Loss_test:24.69\n",
      "epoch:113, Loss_train:21.20, Loss_test:23.98\n",
      "epoch:114, Loss_train:21.66, Loss_test:25.26\n",
      "epoch:115, Loss_train:20.29, Loss_test:25.64\n",
      "epoch:116, Loss_train:23.14, Loss_test:24.52\n",
      "epoch:117, Loss_train:23.51, Loss_test:24.36\n",
      "epoch:118, Loss_train:27.22, Loss_test:25.12\n",
      "epoch:119, Loss_train:18.24, Loss_test:23.65\n",
      "epoch:120, Loss_train:28.00, Loss_test:23.78\n",
      "epoch:121, Loss_train:12.88, Loss_test:23.72\n",
      "epoch:122, Loss_train:23.72, Loss_test:25.39\n",
      "epoch:123, Loss_train:30.62, Loss_test:25.88\n",
      "epoch:124, Loss_train:24.82, Loss_test:24.71\n",
      "epoch:125, Loss_train:22.28, Loss_test:24.05\n",
      "epoch:126, Loss_train:20.78, Loss_test:24.43\n",
      "epoch:127, Loss_train:21.59, Loss_test:24.62\n",
      "epoch:128, Loss_train:27.43, Loss_test:23.36\n",
      "epoch:129, Loss_train:21.86, Loss_test:23.47\n",
      "epoch:130, Loss_train:23.63, Loss_test:23.41\n",
      "epoch:131, Loss_train:17.42, Loss_test:24.24\n",
      "epoch:132, Loss_train:24.08, Loss_test:23.79\n",
      "epoch:133, Loss_train:29.30, Loss_test:24.12\n",
      "epoch:134, Loss_train:26.41, Loss_test:24.00\n",
      "epoch:135, Loss_train:14.63, Loss_test:24.21\n",
      "epoch:136, Loss_train:21.80, Loss_test:25.00\n",
      "epoch:137, Loss_train:36.04, Loss_test:25.36\n",
      "epoch:138, Loss_train:25.43, Loss_test:24.32\n",
      "epoch:139, Loss_train:25.13, Loss_test:24.63\n",
      "epoch:140, Loss_train:18.48, Loss_test:24.28\n",
      "epoch:141, Loss_train:19.61, Loss_test:25.50\n",
      "epoch:142, Loss_train:25.88, Loss_test:24.93\n",
      "epoch:143, Loss_train:25.65, Loss_test:25.24\n",
      "epoch:144, Loss_train:21.58, Loss_test:24.11\n",
      "epoch:145, Loss_train:16.83, Loss_test:23.86\n",
      "epoch:146, Loss_train:23.56, Loss_test:23.74\n",
      "epoch:147, Loss_train:28.34, Loss_test:25.60\n",
      "epoch:148, Loss_train:23.63, Loss_test:23.74\n",
      "epoch:149, Loss_train:19.72, Loss_test:24.06\n",
      "epoch:150, Loss_train:32.23, Loss_test:24.70\n",
      "epoch:151, Loss_train:18.51, Loss_test:24.29\n",
      "epoch:152, Loss_train:25.92, Loss_test:24.85\n",
      "epoch:153, Loss_train:23.94, Loss_test:25.28\n",
      "epoch:154, Loss_train:25.20, Loss_test:24.10\n",
      "epoch:155, Loss_train:19.60, Loss_test:23.82\n",
      "epoch:156, Loss_train:32.49, Loss_test:25.81\n",
      "epoch:157, Loss_train:27.24, Loss_test:24.46\n",
      "epoch:158, Loss_train:18.73, Loss_test:23.83\n",
      "epoch:159, Loss_train:23.65, Loss_test:23.95\n",
      "epoch:160, Loss_train:27.18, Loss_test:24.53\n",
      "epoch:161, Loss_train:25.61, Loss_test:24.81\n",
      "epoch:162, Loss_train:40.23, Loss_test:26.18\n",
      "epoch:163, Loss_train:22.04, Loss_test:24.62\n",
      "epoch:164, Loss_train:24.77, Loss_test:25.22\n",
      "epoch:165, Loss_train:21.44, Loss_test:24.84\n",
      "epoch:166, Loss_train:24.69, Loss_test:23.83\n",
      "epoch:167, Loss_train:33.73, Loss_test:24.10\n",
      "epoch:168, Loss_train:21.90, Loss_test:23.99\n",
      "epoch:169, Loss_train:22.84, Loss_test:23.89\n",
      "epoch:170, Loss_train:25.98, Loss_test:25.48\n",
      "epoch:171, Loss_train:22.86, Loss_test:24.95\n",
      "epoch:172, Loss_train:20.78, Loss_test:25.19\n",
      "epoch:173, Loss_train:22.05, Loss_test:23.65\n",
      "epoch:174, Loss_train:16.29, Loss_test:23.67\n",
      "epoch:175, Loss_train:16.26, Loss_test:23.62\n",
      "epoch:176, Loss_train:24.53, Loss_test:23.35\n",
      "epoch:177, Loss_train:22.39, Loss_test:24.85\n",
      "epoch:178, Loss_train:16.64, Loss_test:23.18\n",
      "epoch:179, Loss_train:15.88, Loss_test:23.36\n",
      "epoch:180, Loss_train:20.10, Loss_test:23.66\n",
      "epoch:181, Loss_train:25.93, Loss_test:25.28\n",
      "epoch:182, Loss_train:20.83, Loss_test:24.98\n",
      "epoch:183, Loss_train:20.87, Loss_test:24.67\n",
      "epoch:184, Loss_train:14.06, Loss_test:24.61\n",
      "epoch:185, Loss_train:19.63, Loss_test:23.43\n",
      "epoch:186, Loss_train:21.96, Loss_test:24.27\n",
      "epoch:187, Loss_train:18.17, Loss_test:25.78\n",
      "epoch:188, Loss_train:21.19, Loss_test:24.13\n",
      "epoch:189, Loss_train:19.74, Loss_test:24.18\n",
      "epoch:190, Loss_train:26.45, Loss_test:24.20\n",
      "epoch:191, Loss_train:31.97, Loss_test:23.79\n",
      "epoch:192, Loss_train:32.12, Loss_test:27.55\n",
      "epoch:193, Loss_train:24.27, Loss_test:23.88\n",
      "epoch:194, Loss_train:19.78, Loss_test:23.77\n",
      "epoch:195, Loss_train:24.27, Loss_test:23.45\n",
      "epoch:196, Loss_train:20.75, Loss_test:24.09\n",
      "epoch:197, Loss_train:24.63, Loss_test:24.61\n",
      "epoch:198, Loss_train:24.84, Loss_test:24.53\n",
      "epoch:199, Loss_train:18.48, Loss_test:24.68\n",
      "epoch:200, Loss_train:18.87, Loss_test:24.10\n"
     ]
    }
   ],
   "source": [
    "## Running the model\n",
    "train_loss = []\n",
    "test_loss = []\n",
    "\n",
    "for epoch in range(n_epochs+1):\n",
    "    \n",
    "    for idx, (x_batch, y_batch) in enumerate(dataloader):\n",
    "        \n",
    "        #Batch 학습\n",
    "        model.train()\n",
    "        optimizer.zero_grad()\n",
    "        \n",
    "        y_pred = model(x_batch)\n",
    "        y_pred = y_pred.reshape(-1)\n",
    "        \n",
    "        loss_train = criterion(y_pred, y_batch)\n",
    "        \n",
    "        loss_train.backward()\n",
    "        optimizer.step()\n",
    "\n",
    "        \n",
    "        #Validation\n",
    "        model.eval()\n",
    "        y_test_pred = model(x_test_tensor)\n",
    "        \n",
    "        y_test_pred = y_test_pred.reshape(-1)\n",
    "        \n",
    "        loss_test = criterion(y_test_pred, y_test_tensor)\n",
    "        \n",
    "        \n",
    "        \n",
    "   \n",
    "    train_loss.append(loss_train.item())\n",
    "    test_loss.append(loss_test.item())\n",
    "    print(\"epoch:{}, Loss_train:{:.2f}, Loss_test:{:.2f}\".format( epoch, train_loss[-1], test_loss[-1]))"
   ]
  },
  {
   "cell_type": "code",
   "execution_count": 37,
   "metadata": {},
   "outputs": [
    {
     "data": {
      "image/png": "[encoded data removed]",
      "text/plain": [
       "<Figure size 432x288 with 1 Axes>"
      ]
     },
     "metadata": {
      "needs_background": "light"
     },
     "output_type": "display_data"
    }
   ],
   "source": [
    "# Loss 값 plot\n",
    "\n",
    "plt.figure()\n",
    "plt.plot(train_loss, label='train')\n",
    "plt.plot(test_loss, label='test')\n",
    "plt.title('Model loss')\n",
    "plt.legend(loc= 'upper right')\n",
    "plt.show()\n"
   ]
  },
  {
   "cell_type": "markdown",
   "metadata": {},
   "source": [
    "### <Scaling>"
   ]
  },
  {
   "cell_type": "markdown",
   "metadata": {},
   "source": [
    "### Tip) Scaling"
   ]
  },
  {
   "cell_type": "markdown",
   "metadata": {},
   "source": [
    "$$ x_in = \\frac{x_io - \\mu_i}{\\sigma_i} $$"
   ]
  },
  {
   "cell_type": "code",
   "execution_count": 129,
   "metadata": {},
   "outputs": [
    {
     "name": "stdout",
     "output_type": "stream",
     "text": [
      "(4, 2)\n",
      "[0.5 4. ]\n"
     ]
    },
    {
     "data": {
      "text/plain": [
       "2.25"
      ]
     },
     "execution_count": 129,
     "metadata": {},
     "output_type": "execute_result"
    }
   ],
   "source": [
    "import numpy as np\n",
    "from sklearn.preprocessing import StandardScaler\n",
    "\n",
    "data = [[0, 0], [0, 0], [1, 8], [1, 8]]\n",
    "\n",
    "scaler = StandardScaler()\n",
    "scaler.fit(data)\n",
    "data_arr= np.array(data)\n",
    "\n",
    "print(data_arr.shape)\n",
    "print(np.mean(data_arr, axis= 0))\n",
    "data_arr.mean()"
   ]
  },
  {
   "cell_type": "code",
   "execution_count": 130,
   "metadata": {},
   "outputs": [
    {
     "data": {
      "text/plain": [
       "array([[-1., -1.],\n",
       "       [-1., -1.],\n",
       "       [ 1.,  1.],\n",
       "       [ 1.,  1.]])"
      ]
     },
     "execution_count": 130,
     "metadata": {},
     "output_type": "execute_result"
    }
   ],
   "source": [
    "data_arr_scaler=scaler.transform(data_arr)\n",
    "data_arr_scaler"
   ]
  },
  {
   "cell_type": "code",
   "execution_count": 131,
   "metadata": {},
   "outputs": [
    {
     "data": {
      "text/plain": [
       "array([[ 3. , -0.5]])"
      ]
     },
     "execution_count": 131,
     "metadata": {},
     "output_type": "execute_result"
    }
   ],
   "source": [
    "scaler.transform([[2, 2]])"
   ]
  },
  {
   "cell_type": "code",
   "execution_count": 132,
   "metadata": {},
   "outputs": [
    {
     "name": "stdout",
     "output_type": "stream",
     "text": [
      "[[-1. -1.]\n",
      " [-1. -1.]\n",
      " [ 1.  1.]\n",
      " [ 1.  1.]]\n"
     ]
    }
   ],
   "source": [
    "print(data_arr_scaler)"
   ]
  },
  {
   "cell_type": "code",
   "execution_count": 18,
   "metadata": {},
   "outputs": [
    {
     "data": {
      "text/plain": [
       "array([0., 0.])"
      ]
     },
     "execution_count": 18,
     "metadata": {},
     "output_type": "execute_result"
    }
   ],
   "source": [
    "np.mean(data_arr_scaler, axis=0)"
   ]
  },
  {
   "cell_type": "code",
   "execution_count": 19,
   "metadata": {},
   "outputs": [
    {
     "data": {
      "text/plain": [
       "0.0"
      ]
     },
     "execution_count": 19,
     "metadata": {},
     "output_type": "execute_result"
    }
   ],
   "source": [
    "data_arr_scaler.mean()"
   ]
  },
  {
   "cell_type": "code",
   "execution_count": 20,
   "metadata": {},
   "outputs": [
    {
     "data": {
      "text/plain": [
       "1.0"
      ]
     },
     "execution_count": 20,
     "metadata": {},
     "output_type": "execute_result"
    }
   ],
   "source": [
    "data_arr_scaler.std()"
   ]
  },
  {
   "cell_type": "code",
   "execution_count": null,
   "metadata": {},
   "outputs": [],
   "source": []
  }
 ],
 "metadata": {
  "kernelspec": {
   "display_name": "Python 3 (ipykernel)",
   "language": "python",
   "name": "python3"
  },
  "language_info": {
   "codemirror_mode": {
    "name": "ipython",
    "version": 3
   },
   "file_extension": ".py",
   "mimetype": "text/x-python",
   "name": "python",
   "nbconvert_exporter": "python",
   "pygments_lexer": "ipython3",
   "version": "3.9.7"
  }
 },
 "nbformat": 4,
 "nbformat_minor": 4
}
